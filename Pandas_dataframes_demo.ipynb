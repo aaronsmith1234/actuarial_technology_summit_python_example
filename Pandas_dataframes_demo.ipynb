{
 "cells": [
  {
   "cell_type": "markdown",
   "metadata": {},
   "source": [
    "First need to import pandas; run the cell below if you don't already have it installed!"
   ]
  },
  {
   "cell_type": "code",
   "execution_count": null,
   "metadata": {},
   "outputs": [],
   "source": [
    "!pip install pandas"
   ]
  },
  {
   "cell_type": "code",
   "execution_count": null,
   "metadata": {},
   "outputs": [],
   "source": [
    "import pandas as pd"
   ]
  },
  {
   "cell_type": "markdown",
   "metadata": {},
   "source": [
    "Lets get some data to work with; we'll read a CSV of Titanic data, but check out the other pd.read_* methods, as they should handle most of your common formats.\n",
    "\n",
    "dataframe.head() will show you the first few rows of data"
   ]
  },
  {
   "cell_type": "code",
   "execution_count": null,
   "metadata": {},
   "outputs": [],
   "source": [
    "titanic_data=pd.read_csv(\"https://raw.githubusercontent.com/datasciencedojo/datasets/master/titanic.csv\")\n",
    "titanic_data.head()"
   ]
  },
  {
   "cell_type": "markdown",
   "metadata": {},
   "source": [
    "Pandas by default assigns each row an index/identifier; lets use name instead, since that should be unique"
   ]
  },
  {
   "cell_type": "code",
   "execution_count": null,
   "metadata": {},
   "outputs": [],
   "source": [
    "titanic_data.set_index(\"Name\",inplace=True)\n",
    "titanic_data.head()"
   ]
  },
  {
   "cell_type": "markdown",
   "metadata": {},
   "source": [
    "The recommended way to return subsets of the dataframe (which are also dataframes!) is to use .loc[row index, column index]. Use : for return all"
   ]
  },
  {
   "cell_type": "code",
   "execution_count": null,
   "metadata": {},
   "outputs": [],
   "source": [
    "titanic_data.loc[\"Allen, Mr. William Henry\",:]"
   ]
  },
  {
   "cell_type": "code",
   "execution_count": null,
   "metadata": {},
   "outputs": [],
   "source": [
    "titanic_data.loc[[\"Allen, Mr. William Henry\",\"Heikkinen, Miss. Laina\"],:]"
   ]
  },
  {
   "cell_type": "code",
   "execution_count": null,
   "metadata": {},
   "outputs": [],
   "source": [
    "titanic_data.loc[[\"Allen, Mr. William Henry\",\"Heikkinen, Miss. Laina\"],\"Sex\"]"
   ]
  },
  {
   "cell_type": "code",
   "execution_count": null,
   "metadata": {},
   "outputs": [],
   "source": [
    "titanic_data.loc[:,\"Survived\"]"
   ]
  },
  {
   "cell_type": "markdown",
   "metadata": {},
   "source": [
    "We can create new columns by doing operations on existing columns"
   ]
  },
  {
   "cell_type": "code",
   "execution_count": null,
   "metadata": {},
   "outputs": [],
   "source": [
    "titanic_data[\"age_survived_multiplied\"]=titanic_data[\"Age\"]*titanic_data[\"Survived\"]"
   ]
  },
  {
   "cell_type": "markdown",
   "metadata": {},
   "source": [
    "To save data out, use a dataframe.to_{format} method; most useful\\common are to_csv, to_excel, to_sql, to_clipboard. These all have a ton of options, and the docmentation is really good, so make sure to use it!"
   ]
  },
  {
   "cell_type": "code",
   "execution_count": null,
   "metadata": {},
   "outputs": [],
   "source": [
    "titanic_data.to_csv(\"data.csv\")"
   ]
  },
  {
   "cell_type": "markdown",
   "metadata": {},
   "source": [
    "Dataframe.describe and .info are super useful summarizations of the data that you have"
   ]
  },
  {
   "cell_type": "code",
   "execution_count": null,
   "metadata": {},
   "outputs": [],
   "source": [
    "titanic_data.describe()"
   ]
  },
  {
   "cell_type": "code",
   "execution_count": null,
   "metadata": {},
   "outputs": [],
   "source": [
    "titanic_data.info()"
   ]
  },
  {
   "cell_type": "markdown",
   "metadata": {},
   "source": [
    "We're going to join this dataset with another dataset; I'll make up some random \"factors\" that vary by gender"
   ]
  },
  {
   "cell_type": "code",
   "execution_count": null,
   "metadata": {},
   "outputs": [],
   "source": [
    "d = {'gender': [\"male\", \"female\"], 'factor': [3, 2]}\n",
    "gender_factors = pd.DataFrame(data=d)\n",
    "gender_factors"
   ]
  },
  {
   "cell_type": "markdown",
   "metadata": {},
   "source": [
    "Now lets merge them! Note that the documentation on pandas is really good, and has a lot of options on how to bring datasets together"
   ]
  },
  {
   "cell_type": "code",
   "execution_count": null,
   "metadata": {},
   "outputs": [],
   "source": [
    "pd.merge(titanic_data,gender_factors,how=\"left\", left_on=\"Sex\",right_on=\"gender\")"
   ]
  },
  {
   "cell_type": "markdown",
   "metadata": {},
   "source": [
    "Note that if you want to do non-exact joins, check out merge_asof; you can join on nearest, nearest without going over, etc."
   ]
  },
  {
   "cell_type": "markdown",
   "metadata": {},
   "source": [
    "Groupby is another incredibly powerful option for how to analyze or summarize data"
   ]
  },
  {
   "cell_type": "code",
   "execution_count": null,
   "metadata": {},
   "outputs": [],
   "source": [
    "titanic_data.groupby(\"Sex\").mean(numeric_only=True)"
   ]
  },
  {
   "cell_type": "markdown",
   "metadata": {},
   "source": [
    "To only look at one field, slice by it"
   ]
  },
  {
   "cell_type": "code",
   "execution_count": null,
   "metadata": {},
   "outputs": [],
   "source": [
    "titanic_data.groupby(\"Sex\")[\"Survived\"].mean()"
   ]
  },
  {
   "cell_type": "code",
   "execution_count": null,
   "metadata": {},
   "outputs": [],
   "source": [
    "titanic_data.groupby([\"Sex\",\"Pclass\"])[\"Survived\"].mean()"
   ]
  },
  {
   "cell_type": "markdown",
   "metadata": {},
   "source": [
    "Binning is a very common actuarial function, which pd.cut handles nicely"
   ]
  },
  {
   "cell_type": "code",
   "execution_count": null,
   "metadata": {},
   "outputs": [],
   "source": [
    "bins=[10,20,30,40,50]\n",
    "titanic_data['age_bin'] = pd.cut(titanic_data['Age'], bins)\n",
    "titanic_data"
   ]
  },
  {
   "cell_type": "markdown",
   "metadata": {},
   "source": [
    "Apply can be used to apply any function to a dataframe!"
   ]
  },
  {
   "cell_type": "code",
   "execution_count": null,
   "metadata": {},
   "outputs": [],
   "source": [
    "def gender_based_calc(input_row):\n",
    "    if input_row[\"Sex\"]==\"male\":\n",
    "        answer=0\n",
    "    else:\n",
    "        answer=1\n",
    "    return answer\n",
    "\n",
    "#np.where is less verbose!\n",
    "\n",
    "titanic_data[\"gender_encoded\"]=titanic_data.apply(gender_based_calc,axis=1)\n",
    "titanic_data"
   ]
  },
  {
   "cell_type": "markdown",
   "metadata": {},
   "source": [
    "Scikit learn or sklearn is a very popular machine learning library; note that we are not doing many common practices like train\\test splits, cross-validation, etc, as the intent here is to illustrate ideas"
   ]
  },
  {
   "cell_type": "code",
   "execution_count": null,
   "metadata": {},
   "outputs": [],
   "source": [
    "from sklearn import tree\n",
    "import matplotlib.pyplot as plt\n",
    "classifier = tree.DecisionTreeClassifier(max_depth=3)\n",
    "\n",
    "X=titanic_data.loc[:,[\"Pclass\",\"gender_encoded\",\"Age\"]]\n",
    "y=titanic_data[\"Survived\"]\n",
    "classifier.fit(X, y)\n",
    "plt.figure(figsize=(12,12))\n",
    "tree.plot_tree(classifier,feature_names=X.columns)"
   ]
  },
  {
   "cell_type": "code",
   "execution_count": null,
   "metadata": {},
   "outputs": [],
   "source": [
    "from sklearn.metrics import accuracy_score\n",
    "\n",
    "accuracy = accuracy_score(y, classifier.predict(X))\n",
    "accuracy"
   ]
  }
 ],
 "metadata": {
  "kernelspec": {
   "display_name": "venv",
   "language": "python",
   "name": "python3"
  },
  "language_info": {
   "codemirror_mode": {
    "name": "ipython",
    "version": 3
   },
   "file_extension": ".py",
   "mimetype": "text/x-python",
   "name": "python",
   "nbconvert_exporter": "python",
   "pygments_lexer": "ipython3",
   "version": "3.12.0"
  },
  "orig_nbformat": 4
 },
 "nbformat": 4,
 "nbformat_minor": 2
}
